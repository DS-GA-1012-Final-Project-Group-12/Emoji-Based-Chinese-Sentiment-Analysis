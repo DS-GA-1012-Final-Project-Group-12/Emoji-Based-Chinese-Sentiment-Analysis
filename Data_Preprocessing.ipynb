{
 "cells": [
  {
   "cell_type": "code",
   "execution_count": 1,
   "id": "f8020964",
   "metadata": {},
   "outputs": [],
   "source": [
    "import pandas as pd\n",
    "\n",
    "def preprocess(df, threshold = 0):\n",
    "    n = df.shape[0]\n",
    "    flags = [0 for i in range(n)]\n",
    "    emojis = [{} for i in range(n)]\n",
    "    reviews = ['' for i in range(n)]\n",
    "    for i in range(n):\n",
    "        start = []\n",
    "        s = df.iloc[i, 1]\n",
    "        for j in range(len(s)):\n",
    "            if s[j] == \"[\":\n",
    "                start.append(j)\n",
    "            elif len(start) == 0:\n",
    "                reviews[i] += s[j]\n",
    "            if s[j] == \"]\" and len(start) > 0:\n",
    "                flags[i] = 1\n",
    "                emoji = s[start[-1]:(j + 1)]\n",
    "                if emoji not in emojis[i]:\n",
    "                    emojis[i][emoji] = 0\n",
    "                emojis[i][emoji] += 1\n",
    "                start.pop()\n",
    "    df['has_emoji'] = flags\n",
    "    df['emojis'] = emojis\n",
    "    df['no_emoji_review'] = reviews"
   ]
  },
  {
   "cell_type": "code",
   "execution_count": 2,
   "id": "bbc28882",
   "metadata": {},
   "outputs": [
    {
     "data": {
      "text/html": [
       "<div>\n",
       "<style scoped>\n",
       "    .dataframe tbody tr th:only-of-type {\n",
       "        vertical-align: middle;\n",
       "    }\n",
       "\n",
       "    .dataframe tbody tr th {\n",
       "        vertical-align: top;\n",
       "    }\n",
       "\n",
       "    .dataframe thead th {\n",
       "        text-align: right;\n",
       "    }\n",
       "</style>\n",
       "<table border=\"1\" class=\"dataframe\">\n",
       "  <thead>\n",
       "    <tr style=\"text-align: right;\">\n",
       "      <th></th>\n",
       "      <th>label</th>\n",
       "      <th>review</th>\n",
       "      <th>has_emoji</th>\n",
       "      <th>emojis</th>\n",
       "      <th>no_emoji_review</th>\n",
       "    </tr>\n",
       "  </thead>\n",
       "  <tbody>\n",
       "    <tr>\n",
       "      <th>0</th>\n",
       "      <td>1</td>\n",
       "      <td>﻿更博了，爆照了，帅的呀，就是越来越爱你！生快傻缺[爱你][爱你][爱你]</td>\n",
       "      <td>1</td>\n",
       "      <td>{'[爱你]': 3}</td>\n",
       "      <td>﻿更博了，爆照了，帅的呀，就是越来越爱你！生快傻缺</td>\n",
       "    </tr>\n",
       "    <tr>\n",
       "      <th>1</th>\n",
       "      <td>1</td>\n",
       "      <td>@张晓鹏jonathan 土耳其的事要认真对待[哈哈]，否则直接开除。@丁丁看世界 很是细心...</td>\n",
       "      <td>1</td>\n",
       "      <td>{'[哈哈]': 1}</td>\n",
       "      <td>@张晓鹏jonathan 土耳其的事要认真对待，否则直接开除。@丁丁看世界 很是细心，酒店都...</td>\n",
       "    </tr>\n",
       "    <tr>\n",
       "      <th>2</th>\n",
       "      <td>1</td>\n",
       "      <td>姑娘都羡慕你呢…还有招财猫高兴……</td>\n",
       "      <td>0</td>\n",
       "      <td>{}</td>\n",
       "      <td>姑娘都羡慕你呢…还有招财猫高兴……</td>\n",
       "    </tr>\n",
       "    <tr>\n",
       "      <th>3</th>\n",
       "      <td>1</td>\n",
       "      <td>美~~~~~[爱你]</td>\n",
       "      <td>1</td>\n",
       "      <td>{'[爱你]': 1}</td>\n",
       "      <td>美~~~~~</td>\n",
       "    </tr>\n",
       "    <tr>\n",
       "      <th>4</th>\n",
       "      <td>1</td>\n",
       "      <td>梦想有多大，舞台就有多大![鼓掌]</td>\n",
       "      <td>1</td>\n",
       "      <td>{'[鼓掌]': 1}</td>\n",
       "      <td>梦想有多大，舞台就有多大!</td>\n",
       "    </tr>\n",
       "  </tbody>\n",
       "</table>\n",
       "</div>"
      ],
      "text/plain": [
       "   label                                             review  has_emoji  \\\n",
       "0      1              ﻿更博了，爆照了，帅的呀，就是越来越爱你！生快傻缺[爱你][爱你][爱你]          1   \n",
       "1      1  @张晓鹏jonathan 土耳其的事要认真对待[哈哈]，否则直接开除。@丁丁看世界 很是细心...          1   \n",
       "2      1                                  姑娘都羡慕你呢…还有招财猫高兴……          0   \n",
       "3      1                                         美~~~~~[爱你]          1   \n",
       "4      1                                  梦想有多大，舞台就有多大![鼓掌]          1   \n",
       "\n",
       "        emojis                                    no_emoji_review  \n",
       "0  {'[爱你]': 3}                          ﻿更博了，爆照了，帅的呀，就是越来越爱你！生快傻缺  \n",
       "1  {'[哈哈]': 1}  @张晓鹏jonathan 土耳其的事要认真对待，否则直接开除。@丁丁看世界 很是细心，酒店都...  \n",
       "2           {}                                  姑娘都羡慕你呢…还有招财猫高兴……  \n",
       "3  {'[爱你]': 1}                                             美~~~~~  \n",
       "4  {'[鼓掌]': 1}                                      梦想有多大，舞台就有多大!  "
      ]
     },
     "execution_count": 2,
     "metadata": {},
     "output_type": "execute_result"
    }
   ],
   "source": [
    "df1 = pd.read_csv(\"Data/weibo_senti_100k.csv\")\n",
    "df2 = pd.read_csv(\"Data/simplifyweibo_4_moods.csv\")\n",
    "df2['label'] = df2['label'].apply(lambda x : 1 if x == 0 else 0)\n",
    "df = pd.concat([df1, df2])\n",
    "df['review'] = df['review'].apply(lambda x : x.split(\"//\")[0] if \"//\" in x else x)\n",
    "preprocess(df)\n",
    "df.head()"
   ]
  },
  {
   "cell_type": "code",
   "execution_count": 3,
   "id": "09cef860",
   "metadata": {},
   "outputs": [],
   "source": [
    "df.to_csv('Data/processed_data.csv')"
   ]
  }
 ],
 "metadata": {
  "kernelspec": {
   "display_name": "Python 3",
   "language": "python",
   "name": "python3"
  },
  "language_info": {
   "codemirror_mode": {
    "name": "ipython",
    "version": 3
   },
   "file_extension": ".py",
   "mimetype": "text/x-python",
   "name": "python",
   "nbconvert_exporter": "python",
   "pygments_lexer": "ipython3",
   "version": "3.8.8"
  }
 },
 "nbformat": 4,
 "nbformat_minor": 5
}
