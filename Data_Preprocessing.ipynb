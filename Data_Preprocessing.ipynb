{
 "cells": [
  {
   "cell_type": "code",
   "execution_count": 1,
   "id": "f8020964",
   "metadata": {},
   "outputs": [],
   "source": [
    "import pandas as pd\n",
    "\n",
    "def preprocess(df, threshold = 0):\n",
    "    n = df.shape[0]\n",
    "    flags = [0 for i in range(n)]\n",
    "    emojis = [{} for i in range(n)]\n",
    "    reviews = ['' for i in range(n)]\n",
    "    for i in range(n):\n",
    "        start = []\n",
    "        s = df.iloc[i, 1]\n",
    "        for j in range(len(s)):\n",
    "            if s[j] == \"[\":\n",
    "                start.append(j)\n",
    "            elif len(start) == 0:\n",
    "                reviews[i] += s[j]\n",
    "            if s[j] == \"]\" and len(start) > 0:\n",
    "                flags[i] = 1\n",
    "                emoji = s[start[-1]:(j + 1)]\n",
    "                if emoji not in emojis[i]:\n",
    "                    emojis[i][emoji] = 0\n",
    "                emojis[i][emoji] += 1\n",
    "                start.pop()\n",
    "    df['has_emoji'] = flags\n",
    "    df['emojis'] = emojis\n",
    "    df['no_emoji_review'] = reviews"
   ]
  },
  {
   "cell_type": "code",
   "execution_count": 2,
   "id": "bbc28882",
   "metadata": {},
   "outputs": [],
   "source": [
    "df1 = pd.read_csv(\"Data/weibo_senti_100k.csv\")\n",
    "df2 = pd.read_csv(\"Data/simplifyweibo_4_moods.csv\")\n",
    "df2['label'] = df2['label'].apply(lambda x : 1 if x == 0 else 0)\n",
    "df = pd.concat([df1, df2])\n",
    "df['review'] = df['review'].apply(lambda x : x.split(\"//\")[0] if \"//\" in x else x)\n",
    "preprocess(df)\n",
    "df.to_csv('Data/processed_data.csv')"
   ]
  }
 ],
 "metadata": {
  "kernelspec": {
   "display_name": "Python 3",
   "language": "python",
   "name": "python3"
  },
  "language_info": {
   "codemirror_mode": {
    "name": "ipython",
    "version": 3
   },
   "file_extension": ".py",
   "mimetype": "text/x-python",
   "name": "python",
   "nbconvert_exporter": "python",
   "pygments_lexer": "ipython3",
   "version": "3.8.8"
  }
 },
 "nbformat": 4,
 "nbformat_minor": 5
}
