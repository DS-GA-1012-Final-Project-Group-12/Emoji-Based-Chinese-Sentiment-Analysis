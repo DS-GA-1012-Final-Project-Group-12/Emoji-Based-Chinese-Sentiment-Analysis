{
 "cells": [
  {
   "cell_type": "code",
   "execution_count": 1,
   "id": "f8020964",
   "metadata": {},
   "outputs": [],
   "source": [
    "import numpy as np\n",
    "import pandas as pd\n",
    "\n",
    "def preprocess(df):\n",
    "    n = df.shape[0]\n",
    "    flags = [0 for i in range(n)]\n",
    "    emojis = [{} for i in range(n)]\n",
    "    df['review'] = df['review'].apply(lambda x : x.split(\"//\")[0] if \"//\" in x else x)\n",
    "    for i in range(n):\n",
    "        start = []\n",
    "        s = df.iloc[i, 1]\n",
    "        for j in range(len(s)):\n",
    "            if s[j] == \"[\":\n",
    "                start.append(j)\n",
    "            if s[j] == \"]\" and len(start) > 0:\n",
    "                flags[i] = 1\n",
    "                emoji = s[start[-1]:(j + 1)]\n",
    "                if emoji not in emojis[i]:\n",
    "                    emojis[i][emoji] = 0\n",
    "                emojis[i][emoji] += 1\n",
    "                start.pop()\n",
    "    df['has_emoji'] = flags\n",
    "    df['emojis'] = emojis"
   ]
  },
  {
   "cell_type": "code",
   "execution_count": 2,
   "id": "bbc28882",
   "metadata": {},
   "outputs": [
    {
     "name": "stdout",
     "output_type": "stream",
     "text": [
      "95461\n"
     ]
    },
    {
     "data": {
      "text/html": [
       "<div>\n",
       "<style scoped>\n",
       "    .dataframe tbody tr th:only-of-type {\n",
       "        vertical-align: middle;\n",
       "    }\n",
       "\n",
       "    .dataframe tbody tr th {\n",
       "        vertical-align: top;\n",
       "    }\n",
       "\n",
       "    .dataframe thead th {\n",
       "        text-align: right;\n",
       "    }\n",
       "</style>\n",
       "<table border=\"1\" class=\"dataframe\">\n",
       "  <thead>\n",
       "    <tr style=\"text-align: right;\">\n",
       "      <th></th>\n",
       "      <th>label</th>\n",
       "      <th>review</th>\n",
       "      <th>emojis</th>\n",
       "    </tr>\n",
       "  </thead>\n",
       "  <tbody>\n",
       "    <tr>\n",
       "      <th>0</th>\n",
       "      <td>1</td>\n",
       "      <td>﻿更博了，爆照了，帅的呀，就是越来越爱你！生快傻缺[爱你][爱你][爱你]</td>\n",
       "      <td>{'[爱你]': 3}</td>\n",
       "    </tr>\n",
       "    <tr>\n",
       "      <th>1</th>\n",
       "      <td>1</td>\n",
       "      <td>@张晓鹏jonathan 土耳其的事要认真对待[哈哈]，否则直接开除。@丁丁看世界 很是细心...</td>\n",
       "      <td>{'[哈哈]': 1}</td>\n",
       "    </tr>\n",
       "    <tr>\n",
       "      <th>3</th>\n",
       "      <td>1</td>\n",
       "      <td>美~~~~~[爱你]</td>\n",
       "      <td>{'[爱你]': 1}</td>\n",
       "    </tr>\n",
       "    <tr>\n",
       "      <th>4</th>\n",
       "      <td>1</td>\n",
       "      <td>梦想有多大，舞台就有多大![鼓掌]</td>\n",
       "      <td>{'[鼓掌]': 1}</td>\n",
       "    </tr>\n",
       "    <tr>\n",
       "      <th>5</th>\n",
       "      <td>1</td>\n",
       "      <td>[花心][鼓掌]</td>\n",
       "      <td>{'[花心]': 1, '[鼓掌]': 1}</td>\n",
       "    </tr>\n",
       "  </tbody>\n",
       "</table>\n",
       "</div>"
      ],
      "text/plain": [
       "   label                                             review  \\\n",
       "0      1              ﻿更博了，爆照了，帅的呀，就是越来越爱你！生快傻缺[爱你][爱你][爱你]   \n",
       "1      1  @张晓鹏jonathan 土耳其的事要认真对待[哈哈]，否则直接开除。@丁丁看世界 很是细心...   \n",
       "3      1                                         美~~~~~[爱你]   \n",
       "4      1                                  梦想有多大，舞台就有多大![鼓掌]   \n",
       "5      1                                           [花心][鼓掌]   \n",
       "\n",
       "                   emojis  \n",
       "0             {'[爱你]': 3}  \n",
       "1             {'[哈哈]': 1}  \n",
       "3             {'[爱你]': 1}  \n",
       "4             {'[鼓掌]': 1}  \n",
       "5  {'[花心]': 1, '[鼓掌]': 1}  "
      ]
     },
     "execution_count": 2,
     "metadata": {},
     "output_type": "execute_result"
    }
   ],
   "source": [
    "df1 = pd.read_csv(\"Data/weibo_senti_100k.csv\")\n",
    "preprocess(df1)\n",
    "df1 = df1[df1['has_emoji'] == 1][['label', 'review', 'emojis']]\n",
    "print(df1.shape[0])\n",
    "df1.head()"
   ]
  },
  {
   "cell_type": "code",
   "execution_count": 3,
   "id": "92a1489c",
   "metadata": {},
   "outputs": [
    {
     "name": "stdout",
     "output_type": "stream",
     "text": [
      "95461\n"
     ]
    },
    {
     "data": {
      "text/html": [
       "<div>\n",
       "<style scoped>\n",
       "    .dataframe tbody tr th:only-of-type {\n",
       "        vertical-align: middle;\n",
       "    }\n",
       "\n",
       "    .dataframe tbody tr th {\n",
       "        vertical-align: top;\n",
       "    }\n",
       "\n",
       "    .dataframe thead th {\n",
       "        text-align: right;\n",
       "    }\n",
       "</style>\n",
       "<table border=\"1\" class=\"dataframe\">\n",
       "  <thead>\n",
       "    <tr style=\"text-align: right;\">\n",
       "      <th></th>\n",
       "      <th>label</th>\n",
       "      <th>review</th>\n",
       "    </tr>\n",
       "  </thead>\n",
       "  <tbody>\n",
       "    <tr>\n",
       "      <th>970742</th>\n",
       "      <td>1</td>\n",
       "      <td>和同学聚会时去吃了，价格是有点点贵。不过它家的名气早有耳闻。\\n菜式中规中矩吧。夏天在二楼露...</td>\n",
       "    </tr>\n",
       "    <tr>\n",
       "      <th>2569320</th>\n",
       "      <td>1</td>\n",
       "      <td>谁能告诉我，这家麦当劳的LOGO为嘛是黑色的。。。\\n离公司最近的MC，装修时就瞄准了，果然...</td>\n",
       "    </tr>\n",
       "    <tr>\n",
       "      <th>1094097</th>\n",
       "      <td>1</td>\n",
       "      <td>讲到回力奥，就想到男生的回力鞋\\n哈哈～～初中满眼望去都是这个鞋子！踢球用的吧～\\n但是奥！...</td>\n",
       "    </tr>\n",
       "    <tr>\n",
       "      <th>4316784</th>\n",
       "      <td>1</td>\n",
       "      <td>如果有人摆寿宴就可以ORDER距地整大大的一个寿桃里面包住D细既寿桃包，非常之好睇，又好意头...</td>\n",
       "    </tr>\n",
       "    <tr>\n",
       "      <th>149801</th>\n",
       "      <td>0</td>\n",
       "      <td>冲着点评去的，问地方，接电话的小姐说不清楚，东南西北都不知道，只知道让我左右的拐弯。\\n火把...</td>\n",
       "    </tr>\n",
       "  </tbody>\n",
       "</table>\n",
       "</div>"
      ],
      "text/plain": [
       "         label                                             review\n",
       "970742       1  和同学聚会时去吃了，价格是有点点贵。不过它家的名气早有耳闻。\\n菜式中规中矩吧。夏天在二楼露...\n",
       "2569320      1  谁能告诉我，这家麦当劳的LOGO为嘛是黑色的。。。\\n离公司最近的MC，装修时就瞄准了，果然...\n",
       "1094097      1  讲到回力奥，就想到男生的回力鞋\\n哈哈～～初中满眼望去都是这个鞋子！踢球用的吧～\\n但是奥！...\n",
       "4316784      1  如果有人摆寿宴就可以ORDER距地整大大的一个寿桃里面包住D细既寿桃包，非常之好睇，又好意头...\n",
       "149801       0  冲着点评去的，问地方，接电话的小姐说不清楚，东南西北都不知道，只知道让我左右的拐弯。\\n火把..."
      ]
     },
     "execution_count": 3,
     "metadata": {},
     "output_type": "execute_result"
    }
   ],
   "source": [
    "df2 = pd.read_csv('Data/dianping/ratings.csv')\n",
    "df2 = df2.dropna()\n",
    "df2['label'] = np.where(df2['rating'] > 3, 1, 0)\n",
    "df2 = df2[['label', 'comment']].sample(n = df1.shape[0], replace = False, random_state = 0)\n",
    "df2.columns = ['label', 'review']\n",
    "print(df2.shape[0])\n",
    "df2.head()"
   ]
  },
  {
   "cell_type": "code",
   "execution_count": 4,
   "id": "e6434c4e",
   "metadata": {},
   "outputs": [],
   "source": [
    "df1.to_csv('Data/processed_Weibo_data.csv')\n",
    "df2.to_csv('Data/processed_Dianping_data.csv')"
   ]
  }
 ],
 "metadata": {
  "kernelspec": {
   "display_name": "Python 3",
   "language": "python",
   "name": "python3"
  },
  "language_info": {
   "codemirror_mode": {
    "name": "ipython",
    "version": 3
   },
   "file_extension": ".py",
   "mimetype": "text/x-python",
   "name": "python",
   "nbconvert_exporter": "python",
   "pygments_lexer": "ipython3",
   "version": "3.8.8"
  }
 },
 "nbformat": 4,
 "nbformat_minor": 5
}
